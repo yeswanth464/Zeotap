{
  "nbformat": 4,
  "nbformat_minor": 0,
  "metadata": {
    "colab": {
      "provenance": [],
      "authorship_tag": "ABX9TyPuSYLu19k1i61TRbTVqmcx",
      "include_colab_link": true
    },
    "kernelspec": {
      "name": "python3",
      "display_name": "Python 3"
    },
    "language_info": {
      "name": "python"
    }
  },
  "cells": [
    {
      "cell_type": "markdown",
      "metadata": {
        "id": "view-in-github",
        "colab_type": "text"
      },
      "source": [
        "<a href=\"https://colab.research.google.com/github/yeswanth464/Zeotap/blob/main/YeswanthReddy_Yerraguntla_EDA.ipynb\" target=\"_parent\"><img src=\"https://colab.research.google.com/assets/colab-badge.svg\" alt=\"Open In Colab\"/></a>"
      ]
    },
    {
      "cell_type": "code",
      "source": [
        "import pandas as pd\n",
        "from sklearn.metrics.pairwise import cosine_similarity\n",
        "from sklearn.preprocessing import StandardScaler\n",
        "\n",
        "customers = pd.read_csv(\"Customers.csv\")\n",
        "products = pd.read_csv(\"Products.csv\")\n",
        "transactions = pd.read_csv(\"Transactions.csv\")\n",
        "\n",
        "transactions = transactions.merge(products, on=\"ProductID\", how=\"left\")\n",
        "merged_data = transactions.merge(customers, on=\"CustomerID\", how=\"left\")\n",
        "\n",
        "print(merged_data.columns)\n",
        "\n",
        "merged_data = merged_data.drop(columns=[\"Price_x\"])\n",
        "\n",
        "merged_data = merged_data.rename(columns={\"Price_y\": \"Price\"})\n",
        "\n",
        "customer_features = merged_data.groupby(\"CustomerID\").agg({\n",
        "    \"TotalValue\": \"sum\",\n",
        "    \"Quantity\": \"sum\",\n",
        "    \"Price\": \"mean\"\n",
        "}).reset_index()\n",
        "\n",
        "scaler = StandardScaler()\n",
        "numeric_features = customer_features[[\"TotalValue\", \"Quantity\", \"Price\"]]\n",
        "scaled_features = scaler.fit_transform(numeric_features)\n",
        "\n",
        "similarity_matrix = cosine_similarity(scaled_features)\n",
        "customer_ids = customer_features[\"CustomerID\"].tolist()\n",
        "\n",
        "lookalikes = {}\n",
        "for i, customer_id in enumerate(customer_ids[:20]):\n",
        "    similarities = list(enumerate(similarity_matrix[i]))\n",
        "    similarities = sorted(similarities, key=lambda x: x[1], reverse=True)\n",
        "    top_3 = [(customer_ids[j], round(score, 2)) for j, score in similarities[1:4]]\n",
        "    lookalikes[customer_id] = top_3\n",
        "\n",
        "lookalike_df = pd.DataFrame([\n",
        "    {\"CustomerID\": k, \"Lookalikes\": v} for k, v in lookalikes.items()\n",
        "])\n",
        "lookalike_df.to_csv(\"Yeswanth_Yerraguntla_Lookalike.csv\", index=False)\n"
      ],
      "metadata": {
        "colab": {
          "base_uri": "https://localhost:8080/"
        },
        "id": "Q7SvL8KGrl_x",
        "outputId": "41a172ee-b5bd-4192-eaf9-7e0f75682d7d"
      },
      "execution_count": 13,
      "outputs": [
        {
          "output_type": "stream",
          "name": "stdout",
          "text": [
            "Index(['TransactionID', 'CustomerID', 'ProductID', 'TransactionDate',\n",
            "       'Quantity', 'TotalValue', 'Price_x', 'ProductName', 'Category',\n",
            "       'Price_y', 'CustomerName', 'Region', 'SignupDate'],\n",
            "      dtype='object')\n"
          ]
        }
      ]
    }
  ]
}